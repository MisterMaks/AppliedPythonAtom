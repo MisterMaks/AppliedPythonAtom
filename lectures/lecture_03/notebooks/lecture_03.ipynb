{
 "cells": [
  {
   "cell_type": "markdown",
   "metadata": {},
   "source": [
    "# Декораторы"
   ]
  },
  {
   "cell_type": "code",
   "execution_count": 1,
   "metadata": {},
   "outputs": [],
   "source": [
    "def foo(x):\n",
    "    print(x + 1)\n",
    "\n",
    "\n",
    "def decorator(foo):\n",
    "    def _dec(*args, **kwargs):\n",
    "        print(\"inside decorator\")\n",
    "        res = foo(*args, **kwargs)\n",
    "        return res\n",
    "    \n",
    "    return _dec"
   ]
  },
  {
   "cell_type": "code",
   "execution_count": 2,
   "metadata": {},
   "outputs": [
    {
     "name": "stdout",
     "output_type": "stream",
     "text": [
      "2\n"
     ]
    }
   ],
   "source": [
    "foo(1)"
   ]
  },
  {
   "cell_type": "code",
   "execution_count": 3,
   "metadata": {},
   "outputs": [
    {
     "name": "stdout",
     "output_type": "stream",
     "text": [
      "inside decorator\n",
      "2\n"
     ]
    }
   ],
   "source": [
    "foo = decorator(foo)\n",
    "foo(1)"
   ]
  },
  {
   "cell_type": "markdown",
   "metadata": {},
   "source": [
    "### В Python есть специальный синтаксис, который позволяет переместить модификацию функции ближе к моменту объявления функции:"
   ]
  },
  {
   "cell_type": "code",
   "execution_count": 4,
   "metadata": {},
   "outputs": [],
   "source": [
    "@decorator\n",
    "def foo(x):\n",
    "    \"\"\"\n",
    "    foo description\n",
    "    \"\"\"\n",
    "    print(x + 1)"
   ]
  },
  {
   "cell_type": "code",
   "execution_count": 5,
   "metadata": {},
   "outputs": [
    {
     "name": "stdout",
     "output_type": "stream",
     "text": [
      "inside decorator\n",
      "2\n"
     ]
    }
   ],
   "source": [
    "foo(1)"
   ]
  },
  {
   "cell_type": "markdown",
   "metadata": {},
   "source": [
    "### Есть небольшая проблема:"
   ]
  },
  {
   "cell_type": "code",
   "execution_count": 6,
   "metadata": {},
   "outputs": [
    {
     "data": {
      "text/plain": [
       "('_dec', None)"
      ]
     },
     "execution_count": 6,
     "metadata": {},
     "output_type": "execute_result"
    }
   ],
   "source": [
    "foo.__name__, foo.__doc__"
   ]
  },
  {
   "cell_type": "markdown",
   "metadata": {},
   "source": [
    "#### Еще \"пропадает\" ```__module__```\n",
    "#### Что делать?"
   ]
  },
  {
   "cell_type": "code",
   "execution_count": 7,
   "metadata": {},
   "outputs": [],
   "source": [
    "def decorator(foo):\n",
    "    def _dec(*args, **kwargs):\n",
    "        res = foo(*args, **kwargs)\n",
    "        return res\n",
    "    \n",
    "    _dec.__name__ = foo.__name__\n",
    "    _dec.__doc__ = foo.__doc__\n",
    "    _dec.__module__ = foo.__module__\n",
    "    \n",
    "    return _dec\n",
    "\n",
    "\n",
    "@decorator\n",
    "def foo(x):\n",
    "    \"\"\"\n",
    "    foo description\n",
    "    \"\"\"\n",
    "    print(x + 1)"
   ]
  },
  {
   "cell_type": "code",
   "execution_count": 8,
   "metadata": {
    "scrolled": true
   },
   "outputs": [
    {
     "data": {
      "text/plain": [
       "('foo', '\\n    foo description\\n    ')"
      ]
     },
     "execution_count": 8,
     "metadata": {},
     "output_type": "execute_result"
    }
   ],
   "source": [
    "foo.__name__, foo.__doc__"
   ]
  },
  {
   "cell_type": "code",
   "execution_count": 9,
   "metadata": {},
   "outputs": [
    {
     "data": {
      "text/plain": [
       "'__main__'"
      ]
     },
     "execution_count": 9,
     "metadata": {},
     "output_type": "execute_result"
    }
   ],
   "source": [
    "foo.__module__"
   ]
  },
  {
   "cell_type": "markdown",
   "metadata": {},
   "source": [
    "#### Но это сложно, можно проще.\n",
    "#### Воспользуемся декоратором ```wraps``` из пакета ```functools``` <i>(подробнее про этот пакет чуть позже)</i>"
   ]
  },
  {
   "cell_type": "code",
   "execution_count": 10,
   "metadata": {},
   "outputs": [],
   "source": [
    "from functools import wraps\n",
    "\n",
    "\n",
    "def decorator(foo):\n",
    "    @wraps(foo)\n",
    "    def _dec(*args, **kwargs):\n",
    "        res = foo(*args, **kwargs)\n",
    "        return res\n",
    "    \n",
    "    return _dec\n",
    "\n",
    "\n",
    "@decorator\n",
    "def foo(x):\n",
    "    \"\"\"\n",
    "    foo description\n",
    "    \"\"\"\n",
    "    print(x + 1)"
   ]
  },
  {
   "cell_type": "code",
   "execution_count": 11,
   "metadata": {},
   "outputs": [
    {
     "data": {
      "text/plain": [
       "('foo', '\\n    foo description\\n    ')"
      ]
     },
     "execution_count": 11,
     "metadata": {},
     "output_type": "execute_result"
    }
   ],
   "source": [
    "foo.__name__, foo.__doc__"
   ]
  },
  {
   "cell_type": "markdown",
   "metadata": {},
   "source": [
    "### Декораторов может быть несколько:"
   ]
  },
  {
   "cell_type": "code",
   "execution_count": 12,
   "metadata": {},
   "outputs": [],
   "source": [
    "def dec1(func):\n",
    "    @wraps(func)\n",
    "    def _dec(*args, **kwargs):\n",
    "        print(\"inside dec1\")\n",
    "        res = func(*args, **kwargs)\n",
    "        return res\n",
    "        \n",
    "    return _dec\n",
    "\n",
    "\n",
    "def dec2(func):\n",
    "    @wraps(func)\n",
    "    def _dec(*args, **kwargs):\n",
    "        print(\"inside dec2\")\n",
    "        res = func(*args, **kwargs)\n",
    "        return res\n",
    "        \n",
    "    return _dec"
   ]
  },
  {
   "cell_type": "code",
   "execution_count": 13,
   "metadata": {},
   "outputs": [],
   "source": [
    "@dec2\n",
    "@dec1\n",
    "def func(arg1, arg2):\n",
    "    pass"
   ]
  },
  {
   "cell_type": "code",
   "execution_count": 14,
   "metadata": {},
   "outputs": [
    {
     "name": "stdout",
     "output_type": "stream",
     "text": [
      "inside dec2\n",
      "inside dec1\n"
     ]
    }
   ],
   "source": [
    "func(1, 2)"
   ]
  },
  {
   "cell_type": "markdown",
   "metadata": {},
   "source": [
    "#### Это же самое, что:"
   ]
  },
  {
   "cell_type": "code",
   "execution_count": 15,
   "metadata": {},
   "outputs": [],
   "source": [
    "def func(arg1, arg2):\n",
    "    pass"
   ]
  },
  {
   "cell_type": "code",
   "execution_count": 16,
   "metadata": {},
   "outputs": [],
   "source": [
    "func = dec2(dec1(func))"
   ]
  },
  {
   "cell_type": "code",
   "execution_count": 17,
   "metadata": {},
   "outputs": [
    {
     "name": "stdout",
     "output_type": "stream",
     "text": [
      "inside dec2\n",
      "inside dec1\n"
     ]
    }
   ],
   "source": [
    "func(1, 2)"
   ]
  },
  {
   "cell_type": "markdown",
   "metadata": {},
   "source": [
    "### Вопрос [?]"
   ]
  },
  {
   "cell_type": "code",
   "execution_count": 18,
   "metadata": {},
   "outputs": [],
   "source": [
    "flag = False\n",
    "\n",
    "\n",
    "def decorator(func):\n",
    "    @wraps(func)\n",
    "    def _dec(*args, **kwargs):\n",
    "        print(\"inside _dec\")\n",
    "        res = func(*args, **kwargs)\n",
    "        return res\n",
    "    \n",
    "    return func if flag else _dec\n",
    "\n",
    "\n",
    "@decorator\n",
    "def func():\n",
    "    pass"
   ]
  },
  {
   "cell_type": "code",
   "execution_count": 19,
   "metadata": {},
   "outputs": [
    {
     "name": "stdout",
     "output_type": "stream",
     "text": [
      "inside _dec\n"
     ]
    }
   ],
   "source": [
    "func()"
   ]
  },
  {
   "cell_type": "markdown",
   "metadata": {},
   "source": [
    "#### Что будет?"
   ]
  },
  {
   "cell_type": "code",
   "execution_count": 20,
   "metadata": {},
   "outputs": [
    {
     "name": "stdout",
     "output_type": "stream",
     "text": [
      "inside _dec\n"
     ]
    }
   ],
   "source": [
    "flag = True\n",
    "func()"
   ]
  },
  {
   "cell_type": "markdown",
   "metadata": {},
   "source": [
    "### В декоратор можно передавать аргументы:"
   ]
  },
  {
   "cell_type": "code",
   "execution_count": 31,
   "metadata": {},
   "outputs": [],
   "source": [
    "def decorator_with_args(dec_argument):\n",
    "    def _decorator(func):\n",
    "        @wraps(func)\n",
    "        def _dec(*args, **kwargs):\n",
    "            print(f\"inside decorator; {dec_argument}\")\n",
    "            res = func(*args, **kwargs)\n",
    "            return res\n",
    "        \n",
    "        return _dec\n",
    "    return _decorator"
   ]
  },
  {
   "cell_type": "code",
   "execution_count": 32,
   "metadata": {},
   "outputs": [],
   "source": [
    "@decorator_with_args(\"hop hey lala ley\")\n",
    "def func(x):\n",
    "    pass"
   ]
  },
  {
   "cell_type": "code",
   "execution_count": 33,
   "metadata": {
    "scrolled": true
   },
   "outputs": [
    {
     "name": "stdout",
     "output_type": "stream",
     "text": [
      "inside decorator; hop hey lala ley\n"
     ]
    }
   ],
   "source": [
    "func(None)"
   ]
  },
  {
   "cell_type": "markdown",
   "metadata": {},
   "source": [
    "#### Это то же самое, что:"
   ]
  },
  {
   "cell_type": "code",
   "execution_count": 27,
   "metadata": {},
   "outputs": [],
   "source": [
    "def decorator_with_args(dec_argument):\n",
    "    def _decorator(func):\n",
    "        @wraps(func)\n",
    "        def _dec(*args, **kwargs):\n",
    "            print(f\"inside decorator; {dec_argument}\")\n",
    "            res = func(*args, **kwargs)\n",
    "            return res\n",
    "        \n",
    "        return _dec\n",
    "    return _decorator"
   ]
  },
  {
   "cell_type": "code",
   "execution_count": 28,
   "metadata": {},
   "outputs": [],
   "source": [
    "def func(x):\n",
    "    pass"
   ]
  },
  {
   "cell_type": "code",
   "execution_count": 29,
   "metadata": {},
   "outputs": [],
   "source": [
    "decorator = decorator_with_args(\"hop hey lala ley\")  # получим тут декоратор\n",
    "func = decorator(func)  # получим модифицированную функцию"
   ]
  },
  {
   "cell_type": "code",
   "execution_count": 30,
   "metadata": {},
   "outputs": [
    {
     "name": "stdout",
     "output_type": "stream",
     "text": [
      "inside decorator; hop hey lala ley\n"
     ]
    }
   ],
   "source": [
    "func(None)"
   ]
  },
  {
   "cell_type": "markdown",
   "metadata": {},
   "source": [
    "#### А если мы хотим опциональные аргументы?"
   ]
  },
  {
   "cell_type": "code",
   "execution_count": 76,
   "metadata": {},
   "outputs": [],
   "source": [
    "def decorator_with_optional_arguments(func=None, *, dec_argument=\"default\"):\n",
    "    if func is None:\n",
    "        def _to_return(func):\n",
    "            return decorator_with_optional_arguments(func, dec_argument=dec_argument)\n",
    "#         return lambda func:\n",
    "        return _to_return\n",
    "    @wraps(func)\n",
    "    def _dec(*args, **kwargs):\n",
    "        print(f\"inside decorator; {dec_argument}\")\n",
    "        res = func(*args, **kwargs)\n",
    "        return res\n",
    "    \n",
    "    return _dec"
   ]
  },
  {
   "cell_type": "code",
   "execution_count": 77,
   "metadata": {},
   "outputs": [
    {
     "name": "stdout",
     "output_type": "stream",
     "text": [
      "inside decorator; Life is beatiful\n"
     ]
    }
   ],
   "source": [
    "@decorator_with_optional_arguments(dec_argument=\"Life is beatiful\")\n",
    "def func1():\n",
    "    pass\n",
    "\n",
    "\n",
    "func1()"
   ]
  },
  {
   "cell_type": "code",
   "execution_count": 36,
   "metadata": {},
   "outputs": [
    {
     "name": "stdout",
     "output_type": "stream",
     "text": [
      "inside decorator; default\n"
     ]
    }
   ],
   "source": [
    "@decorator_with_optional_arguments\n",
    "def func2():\n",
    "    pass\n",
    "\n",
    "\n",
    "func2()"
   ]
  },
  {
   "cell_type": "markdown",
   "metadata": {},
   "source": [
    "### Несколько примеров полезных декораторов"
   ]
  },
  {
   "cell_type": "markdown",
   "metadata": {},
   "source": [
    "#### Посчитать, сколько раз выполнялась функция:"
   ]
  },
  {
   "cell_type": "code",
   "execution_count": 37,
   "metadata": {},
   "outputs": [],
   "source": [
    "def profiled(func):\n",
    "    @wraps(func)\n",
    "    def inner(*args, **kwargs):\n",
    "        inner.ncalls += 1\n",
    "        return func(*args, **kwargs)\n",
    "    inner.ncalls = 0\n",
    "    return inner"
   ]
  },
  {
   "cell_type": "code",
   "execution_count": 38,
   "metadata": {
    "scrolled": true
   },
   "outputs": [
    {
     "name": "stdout",
     "output_type": "stream",
     "text": [
      "1000\n"
     ]
    }
   ],
   "source": [
    "@profiled\n",
    "def f():\n",
    "    pass\n",
    "\n",
    "\n",
    "for i in range(1000):\n",
    "    f()\n",
    "    \n",
    "    \n",
    "print(f.ncalls)"
   ]
  },
  {
   "cell_type": "markdown",
   "metadata": {},
   "source": [
    "#### Декоратор, для вызова декорируемой функции только 1 раз"
   ]
  },
  {
   "cell_type": "code",
   "execution_count": 40,
   "metadata": {},
   "outputs": [],
   "source": [
    "# TODO\n",
    "def once(func):\n",
    "    @wraps(func)\n",
    "    def inner(*args, **kwargs):\n",
    "        inner.ncalls += 1\n",
    "        if inner.ncalls > 1:\n",
    "            raise Exception\n",
    "        else:\n",
    "            return func(*args, **kwargs)\n",
    "    inner.ncalls = 0\n",
    "    return inner    \n",
    "    #pass"
   ]
  },
  {
   "cell_type": "markdown",
   "metadata": {},
   "source": [
    "* [contextlib.contextmanager](https://docs.python.org/3.5/library/contextlib.html#contextlib.contextmanager)\n",
    "* [functools.lru_cache](https://docs.python.org/3.5/library/functools.html#functools.lru_cache)\n",
    "* почти все в [pycontracts](https://andreacensi.github.io/contracts/)\n",
    "* @classmethod и @staticmethod\n",
    "* @property\n",
    "* @abstractmethod\n",
    "\n",
    "..."
   ]
  },
  {
   "cell_type": "code",
   "execution_count": 41,
   "metadata": {},
   "outputs": [
    {
     "name": "stdout",
     "output_type": "stream",
     "text": [
      "1\n"
     ]
    },
    {
     "ename": "Exception",
     "evalue": "",
     "output_type": "error",
     "traceback": [
      "\u001b[0;31m---------------------------------------------------------------------------\u001b[0m",
      "\u001b[0;31mException\u001b[0m                                 Traceback (most recent call last)",
      "\u001b[0;32m<ipython-input-41-4173b8ec0eb0>\u001b[0m in \u001b[0;36m<module>\u001b[0;34m()\u001b[0m\n\u001b[1;32m      4\u001b[0m \u001b[0;34m\u001b[0m\u001b[0m\n\u001b[1;32m      5\u001b[0m \u001b[0mf\u001b[0m\u001b[0;34m(\u001b[0m\u001b[0;34m)\u001b[0m\u001b[0;34m\u001b[0m\u001b[0m\n\u001b[0;32m----> 6\u001b[0;31m \u001b[0mf\u001b[0m\u001b[0;34m(\u001b[0m\u001b[0;34m)\u001b[0m\u001b[0;34m\u001b[0m\u001b[0m\n\u001b[0m",
      "\u001b[0;32m<ipython-input-40-7902a178e2e5>\u001b[0m in \u001b[0;36minner\u001b[0;34m(*args, **kwargs)\u001b[0m\n\u001b[1;32m      5\u001b[0m         \u001b[0minner\u001b[0m\u001b[0;34m.\u001b[0m\u001b[0mncalls\u001b[0m \u001b[0;34m+=\u001b[0m \u001b[0;36m1\u001b[0m\u001b[0;34m\u001b[0m\u001b[0m\n\u001b[1;32m      6\u001b[0m         \u001b[0;32mif\u001b[0m \u001b[0minner\u001b[0m\u001b[0;34m.\u001b[0m\u001b[0mncalls\u001b[0m \u001b[0;34m>\u001b[0m \u001b[0;36m1\u001b[0m\u001b[0;34m:\u001b[0m\u001b[0;34m\u001b[0m\u001b[0m\n\u001b[0;32m----> 7\u001b[0;31m             \u001b[0;32mraise\u001b[0m \u001b[0mException\u001b[0m\u001b[0;34m\u001b[0m\u001b[0m\n\u001b[0m\u001b[1;32m      8\u001b[0m         \u001b[0;32melse\u001b[0m\u001b[0;34m:\u001b[0m\u001b[0;34m\u001b[0m\u001b[0m\n\u001b[1;32m      9\u001b[0m             \u001b[0;32mreturn\u001b[0m \u001b[0mfunc\u001b[0m\u001b[0;34m(\u001b[0m\u001b[0;34m*\u001b[0m\u001b[0margs\u001b[0m\u001b[0;34m,\u001b[0m \u001b[0;34m**\u001b[0m\u001b[0mkwargs\u001b[0m\u001b[0;34m)\u001b[0m\u001b[0;34m\u001b[0m\u001b[0m\n",
      "\u001b[0;31mException\u001b[0m: "
     ]
    }
   ],
   "source": [
    "@once\n",
    "def f():\n",
    "    print(1)\n",
    "\n",
    "f()\n",
    "f()"
   ]
  },
  {
   "cell_type": "markdown",
   "metadata": {},
   "source": [
    "# Области видимости"
   ]
  },
  {
   "cell_type": "code",
   "execution_count": 21,
   "metadata": {},
   "outputs": [
    {
     "name": "stdout",
     "output_type": "stream",
     "text": [
      "<built-in function min>\n",
      "locals:  {'b': 2, 'a': 1}\n",
      "a in globals=0\n",
      "b in globals=1\n"
     ]
    }
   ],
   "source": [
    "print(min)  # build-in\n",
    "\n",
    "a = 0  # global\n",
    "b = 1  # global\n",
    "\n",
    "\n",
    "def g():\n",
    "    a = -1  # enclosing\n",
    "    b = -2  # enclosing\n",
    "    \n",
    "    def f():\n",
    "        a = 1  # local\n",
    "        b = 2  # local\n",
    "\n",
    "        print(\"locals: \", locals())\n",
    "\n",
    "        print(\"a in globals=\", globals()[\"a\"], sep=\"\")\n",
    "        print(\"b in globals=\", globals()[\"b\"], sep=\"\")\n",
    "        \n",
    "    f()\n",
    "    \n",
    "    \n",
    "g()"
   ]
  },
  {
   "cell_type": "markdown",
   "metadata": {},
   "source": [
    "### А что с присваиванием?"
   ]
  },
  {
   "cell_type": "code",
   "execution_count": 22,
   "metadata": {},
   "outputs": [
    {
     "name": "stdout",
     "output_type": "stream",
     "text": [
      "Catch UnboundLocalError\n"
     ]
    }
   ],
   "source": [
    "a = -1  # global\n",
    "\n",
    "\n",
    "def f():\n",
    "    try:\n",
    "        a += 1  # local\n",
    "    except UnboundLocalError:\n",
    "        print(\"Catch UnboundLocalError\")\n",
    "\n",
    "\n",
    "f()"
   ]
  },
  {
   "cell_type": "markdown",
   "metadata": {},
   "source": [
    "#### Можно ли как-то присвоить? Да!"
   ]
  },
  {
   "cell_type": "code",
   "execution_count": 23,
   "metadata": {},
   "outputs": [
    {
     "name": "stdout",
     "output_type": "stream",
     "text": [
      "0\n"
     ]
    }
   ],
   "source": [
    "a = -1  # global\n",
    "\n",
    "\n",
    "def f():\n",
    "    globals()[\"a\"] += 1  # local\n",
    "\n",
    "\n",
    "f()\n",
    "print(a)"
   ]
  },
  {
   "cell_type": "markdown",
   "metadata": {},
   "source": [
    "#### Или так:"
   ]
  },
  {
   "cell_type": "code",
   "execution_count": 24,
   "metadata": {},
   "outputs": [
    {
     "name": "stdout",
     "output_type": "stream",
     "text": [
      "0\n"
     ]
    }
   ],
   "source": [
    "a = -1  # global\n",
    "\n",
    "\n",
    "def f():\n",
    "    global a\n",
    "    a += 1  # local\n",
    "    print(a)\n",
    "\n",
    "\n",
    "f()"
   ]
  },
  {
   "cell_type": "markdown",
   "metadata": {},
   "source": [
    "#### Для ```enclosing```, соответственно, вот так вот:"
   ]
  },
  {
   "cell_type": "code",
   "execution_count": 25,
   "metadata": {},
   "outputs": [
    {
     "name": "stdout",
     "output_type": "stream",
     "text": [
      "0\n"
     ]
    }
   ],
   "source": [
    "def g():\n",
    "    a = -1  # enclosing\n",
    "\n",
    "    def f():\n",
    "        nonlocal a\n",
    "        a += 1  # local\n",
    "\n",
    "    f()\n",
    "    print(a)\n",
    "    \n",
    "    \n",
    "g()"
   ]
  },
  {
   "cell_type": "markdown",
   "metadata": {},
   "source": [
    "# Дескрипторы"
   ]
  },
  {
   "cell_type": "markdown",
   "metadata": {},
   "source": [
    "### @property"
   ]
  },
  {
   "cell_type": "code",
   "execution_count": 42,
   "metadata": {},
   "outputs": [],
   "source": [
    "class SomeBank:\n",
    "    \n",
    "    def __init__(self, start):\n",
    "        self._rubles = start\n",
    "        \n",
    "    @property\n",
    "    def rubles(self):\n",
    "        return self._rubles\n",
    "    \n",
    "    @rubles.setter\n",
    "    def rubles(self, value):\n",
    "        if value > 0:\n",
    "            self._rubles = value\n",
    "        else:\n",
    "            raise Exception('You shall not pass!')\n",
    "\n",
    "    @rubles.deleter\n",
    "    def rubles(self, value):\n",
    "        del self._rubles"
   ]
  },
  {
   "cell_type": "code",
   "execution_count": 43,
   "metadata": {},
   "outputs": [],
   "source": [
    "interv = SomeBank(6000)"
   ]
  },
  {
   "cell_type": "code",
   "execution_count": 44,
   "metadata": {},
   "outputs": [
    {
     "data": {
      "text/plain": [
       "6000"
      ]
     },
     "execution_count": 44,
     "metadata": {},
     "output_type": "execute_result"
    }
   ],
   "source": [
    "interv.rubles"
   ]
  },
  {
   "cell_type": "code",
   "execution_count": 45,
   "metadata": {},
   "outputs": [],
   "source": [
    "interv.rubles = 4242"
   ]
  },
  {
   "cell_type": "code",
   "execution_count": 46,
   "metadata": {},
   "outputs": [
    {
     "ename": "Exception",
     "evalue": "You shall not pass!",
     "output_type": "error",
     "traceback": [
      "\u001b[0;31m---------------------------------------------------------------------------\u001b[0m",
      "\u001b[0;31mException\u001b[0m                                 Traceback (most recent call last)",
      "\u001b[0;32m<ipython-input-46-c4a432c5e7a5>\u001b[0m in \u001b[0;36m<module>\u001b[0;34m()\u001b[0m\n\u001b[0;32m----> 1\u001b[0;31m \u001b[0minterv\u001b[0m\u001b[0;34m.\u001b[0m\u001b[0mrubles\u001b[0m \u001b[0;34m=\u001b[0m \u001b[0;34m-\u001b[0m\u001b[0;36m32\u001b[0m\u001b[0;34m\u001b[0m\u001b[0m\n\u001b[0m",
      "\u001b[0;32m<ipython-input-42-b5d825c9341f>\u001b[0m in \u001b[0;36mrubles\u001b[0;34m(self, value)\u001b[0m\n\u001b[1;32m     13\u001b[0m             \u001b[0mself\u001b[0m\u001b[0;34m.\u001b[0m\u001b[0m_rubles\u001b[0m \u001b[0;34m=\u001b[0m \u001b[0mvalue\u001b[0m\u001b[0;34m\u001b[0m\u001b[0m\n\u001b[1;32m     14\u001b[0m         \u001b[0;32melse\u001b[0m\u001b[0;34m:\u001b[0m\u001b[0;34m\u001b[0m\u001b[0m\n\u001b[0;32m---> 15\u001b[0;31m             \u001b[0;32mraise\u001b[0m \u001b[0mException\u001b[0m\u001b[0;34m(\u001b[0m\u001b[0;34m'You shall not pass!'\u001b[0m\u001b[0;34m)\u001b[0m\u001b[0;34m\u001b[0m\u001b[0m\n\u001b[0m\u001b[1;32m     16\u001b[0m \u001b[0;34m\u001b[0m\u001b[0m\n\u001b[1;32m     17\u001b[0m     \u001b[0;34m@\u001b[0m\u001b[0mrubles\u001b[0m\u001b[0;34m.\u001b[0m\u001b[0mdeleter\u001b[0m\u001b[0;34m\u001b[0m\u001b[0m\n",
      "\u001b[0;31mException\u001b[0m: You shall not pass!"
     ]
    }
   ],
   "source": [
    "interv.rubles = -32"
   ]
  },
  {
   "cell_type": "markdown",
   "metadata": {},
   "source": [
    "### \\_\\_get__(), \\_\\_set__() и \\_\\_delete__(), "
   ]
  },
  {
   "cell_type": "code",
   "execution_count": 65,
   "metadata": {},
   "outputs": [],
   "source": [
    "class Descr:\n",
    "    def __get__(self, instance, owner):\n",
    "        print(instance, owner)\n",
    "        \n",
    "    def __set__(self, instance, value):\n",
    "        print(instance, value)\n",
    "        \n",
    "    def __delete__(self, instance):\n",
    "        print(instance)\n",
    "        \n",
    "    \n",
    "class A:\n",
    "    attr = Descr()"
   ]
  },
  {
   "cell_type": "code",
   "execution_count": 57,
   "metadata": {},
   "outputs": [
    {
     "name": "stdout",
     "output_type": "stream",
     "text": [
      "<__main__.A object at 0x1095ee5c0> <class '__main__.A'>\n"
     ]
    }
   ],
   "source": [
    "A().attr"
   ]
  },
  {
   "cell_type": "code",
   "execution_count": 58,
   "metadata": {},
   "outputs": [
    {
     "name": "stdout",
     "output_type": "stream",
     "text": [
      "None <class '__main__.A'>\n"
     ]
    }
   ],
   "source": [
    "A.attr"
   ]
  },
  {
   "cell_type": "code",
   "execution_count": 59,
   "metadata": {},
   "outputs": [
    {
     "name": "stdout",
     "output_type": "stream",
     "text": [
      "<__main__.A object at 0x1095eed68> 42\n"
     ]
    }
   ],
   "source": [
    "A().attr = 42"
   ]
  },
  {
   "cell_type": "code",
   "execution_count": 60,
   "metadata": {},
   "outputs": [
    {
     "data": {
      "text/plain": [
       "42"
      ]
     },
     "execution_count": 60,
     "metadata": {},
     "output_type": "execute_result"
    }
   ],
   "source": [
    "A.attr = 42\n",
    "A.attr"
   ]
  },
  {
   "cell_type": "markdown",
   "metadata": {},
   "source": [
    "#### Что будет?"
   ]
  },
  {
   "cell_type": "code",
   "execution_count": 61,
   "metadata": {},
   "outputs": [],
   "source": [
    "A.attr = 42"
   ]
  },
  {
   "cell_type": "code",
   "execution_count": 62,
   "metadata": {},
   "outputs": [
    {
     "ename": "AttributeError",
     "evalue": "attr",
     "output_type": "error",
     "traceback": [
      "\u001b[0;31m---------------------------------------------------------------------------\u001b[0m",
      "\u001b[0;31mAttributeError\u001b[0m                            Traceback (most recent call last)",
      "\u001b[0;32m<ipython-input-62-93048156787c>\u001b[0m in \u001b[0;36m<module>\u001b[0;34m()\u001b[0m\n\u001b[0;32m----> 1\u001b[0;31m \u001b[0;32mdel\u001b[0m \u001b[0mA\u001b[0m\u001b[0;34m(\u001b[0m\u001b[0;34m)\u001b[0m\u001b[0;34m.\u001b[0m\u001b[0mattr\u001b[0m\u001b[0;34m\u001b[0m\u001b[0m\n\u001b[0m",
      "\u001b[0;31mAttributeError\u001b[0m: attr"
     ]
    }
   ],
   "source": [
    "del A().attr"
   ]
  },
  {
   "cell_type": "code",
   "execution_count": 63,
   "metadata": {},
   "outputs": [],
   "source": [
    "del A.attr"
   ]
  },
  {
   "cell_type": "markdown",
   "metadata": {},
   "source": [
    "### Хм"
   ]
  },
  {
   "cell_type": "markdown",
   "metadata": {},
   "source": [
    "* `instance` -- экз. класса\n",
    "* `attr` -- атрибут (который дескриптор)\n",
    "* `descr = cls.\\_\\_dict__[\"attr\"]` -- сам дескриптор"
   ]
  },
  {
   "cell_type": "code",
   "execution_count": 66,
   "metadata": {},
   "outputs": [],
   "source": [
    "instance = A()\n",
    "descr = A.__dict__[\"attr\"]"
   ]
  },
  {
   "cell_type": "markdown",
   "metadata": {},
   "source": [
    "####  Тогда:"
   ]
  },
  {
   "cell_type": "code",
   "execution_count": 67,
   "metadata": {},
   "outputs": [
    {
     "name": "stdout",
     "output_type": "stream",
     "text": [
      "None <class '__main__.A'>\n",
      "None <class '__main__.A'>\n"
     ]
    }
   ],
   "source": [
    "A.attr\n",
    "descr.__get__(None, A)"
   ]
  },
  {
   "cell_type": "code",
   "execution_count": 68,
   "metadata": {},
   "outputs": [
    {
     "name": "stdout",
     "output_type": "stream",
     "text": [
      "<__main__.A object at 0x1095d66a0> <class '__main__.A'>\n",
      "<__main__.A object at 0x1095d66a0> <class '__main__.A'>\n"
     ]
    }
   ],
   "source": [
    "instance.attr\n",
    "descr.__get__(instance, A)"
   ]
  },
  {
   "cell_type": "code",
   "execution_count": 69,
   "metadata": {},
   "outputs": [
    {
     "name": "stdout",
     "output_type": "stream",
     "text": [
      "<__main__.A object at 0x1095d66a0> 42\n",
      "<__main__.A object at 0x1095d66a0> 42\n"
     ]
    }
   ],
   "source": [
    "instance.attr = 42\n",
    "descr.__set__(instance, 42)"
   ]
  },
  {
   "cell_type": "code",
   "execution_count": 70,
   "metadata": {},
   "outputs": [
    {
     "name": "stdout",
     "output_type": "stream",
     "text": [
      "<__main__.A object at 0x1095d66a0>\n",
      "<__main__.A object at 0x1095d66a0>\n"
     ]
    }
   ],
   "source": [
    "del instance.attr\n",
    "descr.__delete__(instance)"
   ]
  },
  {
   "cell_type": "markdown",
   "metadata": {},
   "source": [
    "### Вопрос [?]"
   ]
  },
  {
   "cell_type": "markdown",
   "metadata": {},
   "source": [
    "#### Где хранить данные дескриптору?"
   ]
  },
  {
   "cell_type": "markdown",
   "metadata": {},
   "source": [
    "### Еще Вопрос [?]"
   ]
  },
  {
   "cell_type": "markdown",
   "metadata": {},
   "source": [
    "#### Как вы думаете, как работают методы в Python?"
   ]
  },
  {
   "cell_type": "markdown",
   "metadata": {},
   "source": [
    "`types.MethodType`\n",
    "\n",
    "* http://stupidpythonideas.blogspot.com/2013/06/how-methods-work.html\n",
    "* http://igorsobreira.com/2011/02/06/adding-methods-dynamically-in-python.html"
   ]
  },
  {
   "cell_type": "markdown",
   "metadata": {},
   "source": [
    "# Наследование и MRO"
   ]
  },
  {
   "cell_type": "code",
   "execution_count": null,
   "metadata": {},
   "outputs": [],
   "source": [
    "class Parent:\n",
    "    def print_hello(self):\n",
    "        print(f\"Hello from {self.__class__}!\")\n",
    "        \n",
    "\n",
    "class Child(Parent):\n",
    "    pass"
   ]
  },
  {
   "cell_type": "code",
   "execution_count": null,
   "metadata": {},
   "outputs": [],
   "source": [
    "parent = Parent()\n",
    "child = Child()\n",
    "\n",
    "parent.print_hello()\n",
    "child.print_hello()"
   ]
  },
  {
   "cell_type": "markdown",
   "metadata": {},
   "source": [
    "###  Пример неочевидного множественного наследования:"
   ]
  },
  {
   "cell_type": "code",
   "execution_count": 71,
   "metadata": {},
   "outputs": [],
   "source": [
    "class God(object):\n",
    "    def dd(self):\n",
    "        print('Me God')\n",
    "        \n",
    "class Adam(God):\n",
    "    def dd(self):\n",
    "        print('Adam')\n",
    "        super().dd()\n",
    "        \n",
    "class Eva(God): \n",
    "    def dd(self):\n",
    "        print('Eva')\n",
    "        super().dd()\n",
    "        \n",
    "class Ramon(Adam, Eva):\n",
    "    def dd(self):\n",
    "        print('Ramon')\n",
    "        super().dd()\n",
    "        \n",
    "class Gayle(Adam, Eva):\n",
    "    def dd(self):\n",
    "        print('Gayle')\n",
    "        super().dd()\n",
    "        \n",
    "class Raymond(Ramon, Gayle):\n",
    "    def dd(self):\n",
    "        print('Raymond')\n",
    "        super().dd()\n",
    "\n",
    "class Dennis(Adam, Eva): \n",
    "    def dd(self):\n",
    "        print('Dennis')\n",
    "        super().dd()\n",
    "        \n",
    "class Sharon(Adam, Eva): \n",
    "    def dd(self):\n",
    "        print('Sharon')\n",
    "        super().dd()\n",
    "        \n",
    "class Rachel(Dennis, Sharon): \n",
    "    def dd(self):\n",
    "        print('Rachel')\n",
    "        super().dd()\n",
    "\n",
    "class Mattew(Raymond, Rachel): \n",
    "    def dd(self):\n",
    "        print('Rachel')\n",
    "        super().dd()"
   ]
  },
  {
   "cell_type": "code",
   "execution_count": 72,
   "metadata": {},
   "outputs": [
    {
     "data": {
      "text/plain": [
       "(__main__.Mattew,\n",
       " __main__.Raymond,\n",
       " __main__.Ramon,\n",
       " __main__.Gayle,\n",
       " __main__.Rachel,\n",
       " __main__.Dennis,\n",
       " __main__.Sharon,\n",
       " __main__.Adam,\n",
       " __main__.Eva,\n",
       " __main__.God,\n",
       " object)"
      ]
     },
     "execution_count": 72,
     "metadata": {},
     "output_type": "execute_result"
    }
   ],
   "source": [
    "Mattew.__mro__"
   ]
  },
  {
   "cell_type": "code",
   "execution_count": 73,
   "metadata": {},
   "outputs": [
    {
     "name": "stdout",
     "output_type": "stream",
     "text": [
      "Rachel\n",
      "Raymond\n",
      "Ramon\n",
      "Gayle\n",
      "Rachel\n",
      "Dennis\n",
      "Sharon\n",
      "Adam\n",
      "Eva\n",
      "Me God\n"
     ]
    }
   ],
   "source": [
    "mattew = Mattew()\n",
    "\n",
    "mattew.dd()"
   ]
  },
  {
   "cell_type": "code",
   "execution_count": null,
   "metadata": {},
   "outputs": [],
   "source": []
  }
 ],
 "metadata": {
  "kernelspec": {
   "display_name": "Python 3",
   "language": "python",
   "name": "python3"
  },
  "language_info": {
   "codemirror_mode": {
    "name": "ipython",
    "version": 3
   },
   "file_extension": ".py",
   "mimetype": "text/x-python",
   "name": "python",
   "nbconvert_exporter": "python",
   "pygments_lexer": "ipython3",
   "version": "3.6.4"
  }
 },
 "nbformat": 4,
 "nbformat_minor": 2
}
