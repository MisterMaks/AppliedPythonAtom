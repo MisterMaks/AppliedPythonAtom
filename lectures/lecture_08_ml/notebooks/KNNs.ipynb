{
 "cells": [
  {
   "cell_type": "code",
   "execution_count": 19,
   "metadata": {},
   "outputs": [],
   "source": [
    "import numpy as np\n",
    "import pandas as pd"
   ]
  },
  {
   "cell_type": "markdown",
   "metadata": {},
   "source": [
    "# Вспомним (напишем) KNN для классификации"
   ]
  },
  {
   "cell_type": "code",
   "execution_count": 20,
   "metadata": {},
   "outputs": [
    {
     "data": {
      "text/html": [
       "<div>\n",
       "<style scoped>\n",
       "    .dataframe tbody tr th:only-of-type {\n",
       "        vertical-align: middle;\n",
       "    }\n",
       "\n",
       "    .dataframe tbody tr th {\n",
       "        vertical-align: top;\n",
       "    }\n",
       "\n",
       "    .dataframe thead th {\n",
       "        text-align: right;\n",
       "    }\n",
       "</style>\n",
       "<table border=\"1\" class=\"dataframe\">\n",
       "  <thead>\n",
       "    <tr style=\"text-align: right;\">\n",
       "      <th></th>\n",
       "      <th>height</th>\n",
       "      <th>weight</th>\n",
       "      <th>age</th>\n",
       "      <th>male</th>\n",
       "    </tr>\n",
       "  </thead>\n",
       "  <tbody>\n",
       "    <tr>\n",
       "      <th>0</th>\n",
       "      <td>156.845</td>\n",
       "      <td>53.041914</td>\n",
       "      <td>41.0</td>\n",
       "      <td>1</td>\n",
       "    </tr>\n",
       "    <tr>\n",
       "      <th>1</th>\n",
       "      <td>163.830</td>\n",
       "      <td>62.992589</td>\n",
       "      <td>35.0</td>\n",
       "      <td>1</td>\n",
       "    </tr>\n",
       "    <tr>\n",
       "      <th>2</th>\n",
       "      <td>149.225</td>\n",
       "      <td>38.243476</td>\n",
       "      <td>32.0</td>\n",
       "      <td>0</td>\n",
       "    </tr>\n",
       "    <tr>\n",
       "      <th>3</th>\n",
       "      <td>168.910</td>\n",
       "      <td>55.479971</td>\n",
       "      <td>27.0</td>\n",
       "      <td>1</td>\n",
       "    </tr>\n",
       "    <tr>\n",
       "      <th>4</th>\n",
       "      <td>147.955</td>\n",
       "      <td>34.869885</td>\n",
       "      <td>19.0</td>\n",
       "      <td>0</td>\n",
       "    </tr>\n",
       "  </tbody>\n",
       "</table>\n",
       "</div>"
      ],
      "text/plain": [
       "    height     weight   age  male\n",
       "0  156.845  53.041914  41.0     1\n",
       "1  163.830  62.992589  35.0     1\n",
       "2  149.225  38.243476  32.0     0\n",
       "3  168.910  55.479971  27.0     1\n",
       "4  147.955  34.869885  19.0     0"
      ]
     },
     "execution_count": 20,
     "metadata": {},
     "output_type": "execute_result"
    }
   ],
   "source": [
    "#Считаем данные из файла data/Howell1.csv в DataFrame\n",
    "# Должно быть 4 колонки: height, weight, age, male\n",
    "df = pd.read_csv(\"data/Howell1.csv\", sep=\";\")\n",
    "df.drop(\"Unnamed: 0\", axis=1, inplace=True)\n",
    "df.head()"
   ]
  },
  {
   "cell_type": "code",
   "execution_count": 21,
   "metadata": {},
   "outputs": [],
   "source": [
    "#Разобьем наши данные на трейн и валидацию (не будем делать cross-validation, возьмем просто отложенный семпл)\n",
    "#Чем плох такой подход?\n",
    "#Используем train_test_split с random_state=13, test_size=0.2 и стратификацией по целевой переменной \n",
    "#ПРЕДСКАЗЫВАТЬ БУДЕМ ПОЛ!\n",
    "from sklearn.model_selection import train_test_split\n",
    "from sklearn.preprocessing import StandardScaler"
   ]
  },
  {
   "cell_type": "code",
   "execution_count": 22,
   "metadata": {},
   "outputs": [],
   "source": [
    "X_train, X_test, y_train, y_test = train_test_split(df.drop(\"male\", axis=1), df['male'],\n",
    "                                                    random_state=13, test_size=0.2, stratify=df['male'])"
   ]
  },
  {
   "cell_type": "code",
   "execution_count": 23,
   "metadata": {},
   "outputs": [],
   "source": [
    "#Что еще нужно сделать для KNN?\n",
    "scaler = StandardScaler().fit(X_train)\n",
    "train = scaler.transform(X_train)\n",
    "test = scaler.transform(X_test)"
   ]
  },
  {
   "cell_type": "code",
   "execution_count": 28,
   "metadata": {},
   "outputs": [
    {
     "data": {
      "text/plain": [
       "array([[-1.4519089 , -1.04129668,  0.02710844],\n",
       "       [ 1.11423713,  0.1367141 , -1.47459447],\n",
       "       [-0.37578314, -0.45911375, -0.5504696 ],\n",
       "       [ 0.61756371,  1.39204604, -0.66598521],\n",
       "       [ 0.78312151,  0.3641293 , -1.70562569],\n",
       "       [ 1.11423713,  2.73834407,  0.14262404],\n",
       "       [ 2.27314179,  2.5473153 , -1.35907886],\n",
       "       [ 0.36922699, -0.11344263,  1.06674891],\n",
       "       [-0.42876164,  0.64612416, -0.434954  ],\n",
       "       [-0.70689876, -1.2823568 ,  1.41329574],\n",
       "       [-0.95523547, -0.90029925, -0.5504696 ],\n",
       "       [ 0.74338764,  0.80986311,  1.64432695],\n",
       "       [-2.19691904, -1.09587633, -1.24356325],\n",
       "       [ 0.36922699, -1.07313481,  0.14262404],\n",
       "       [-1.11883787, -1.49599947, -1.59011008],\n",
       "       [-1.28635109, -0.04521807, -1.24356325],\n",
       "       [ 0.70034261,  1.2374037 ,  1.18226452],\n",
       "       [ 0.03811138, -0.61375609, -0.89701643],\n",
       "       [-0.04466753,  0.36867761, -0.89701643],\n",
       "       [-1.28635109, -1.2823568 ,  1.75984256],\n",
       "       [ 0.35267121,  0.42780556, -0.66598521],\n",
       "       [ 1.11423713,  1.60581634,  0.14262404],\n",
       "       [ 0.61756371,  1.32836978, -0.78150082],\n",
       "       [ 0.70034261,  0.31409796, -1.12804765],\n",
       "       [ 0.78312151, -0.65014252, -1.12804765],\n",
       "       [ 1.44535275,  0.49148182,  0.83571769],\n",
       "       [ 0.20366919,  0.27316322, -0.31943839],\n",
       "       [-0.37578314, -0.80933317, -0.78150082],\n",
       "       [-0.21022534, -1.66896265, -1.24356325],\n",
       "       [ 0.12089028, -0.29082649, -1.47459447],\n",
       "       [-0.04988195, -1.23930052, -1.59011008],\n",
       "       [-1.5346878 , -1.18229411,  1.06674891],\n",
       "       [-0.04466753, -0.29082649,  1.18226452],\n",
       "       [ 1.44535275,  1.08276136,  1.06674891],\n",
       "       [-0.37578314,  0.85534615,  0.02710844],\n",
       "       [-1.94858232, -1.35967797, -1.35907886],\n",
       "       [-0.87245657, -0.82752638,  1.18226452],\n",
       "       [ 1.77646836,  1.53304347, -0.78150082],\n",
       "       [-0.04466753, -0.0770562 , -0.31943839],\n",
       "       [ 0.12089028, -0.30447141, -0.08840717],\n",
       "       [-1.61746671, -1.87363634, -0.31943839],\n",
       "       [-1.61746671, -1.65531774,  0.9512333 ],\n",
       "       [-0.04466753,  0.20493866, -1.35907886],\n",
       "       [-1.03801438, -1.60073809,  0.72020209],\n",
       "       [-1.71680139, -2.11014815, -1.35907886],\n",
       "       [ 0.78312151,  0.72344533,  0.83571769],\n",
       "       [-0.12744643,  0.63702755,  1.52881134],\n",
       "       [ 0.03811138,  1.346563  ,  0.37365526],\n",
       "       [ 1.52813165,  1.48756043,  0.9512333 ],\n",
       "       [-1.4519089 , -1.92821599,  0.02710844]])"
      ]
     },
     "execution_count": 28,
     "metadata": {},
     "output_type": "execute_result"
    }
   ],
   "source": [
    "test"
   ]
  },
  {
   "cell_type": "code",
   "execution_count": 29,
   "metadata": {},
   "outputs": [],
   "source": [
    "#Заполните пропуски в классификаторе\n",
    "class KNNClassifier:\n",
    "    \"\"\"\n",
    "    simple KNN classifier\n",
    "    \"\"\"\n",
    "    \n",
    "    def __init__(self, n):\n",
    "        self.n = n\n",
    "        # pass\n",
    "        \n",
    "    def fit(self, X, y):\n",
    "        self.X = X\n",
    "        self.y = y\n",
    "        # pass\n",
    "    \n",
    "    def predict(self, X):\n",
    "        y = []\n",
    "        assert len(X.shape) == 2\n",
    "        for (h, w, a) in X:\n",
    "            ### Посчитаем расстояние от всех элементов в тренировочной выборке\n",
    "            # до текущего примера -> результат - вектор размерности трейна\n",
    "            d = np.sqrt((h - self.X[:, 0]) ** 2 + (w - self.X[:, 1]) ** 2 + (a - self.X[:, 2]) ** 2)\n",
    "            ### Возьмем индексы n элементов, расстояние до которых минимально\n",
    "            ### результат -> вектор из n элементов\n",
    "            idx = np.argsort(d)[:self.n]\n",
    "            ### Посчитаем частоту меток для каждого случая \n",
    "            ### результат -> вектор длинны 2 который покажет\n",
    "            ### сколько соседей 0-го класса, сколько соседей 1-го класса.\n",
    "            counts = np.sum(self.y[idx])\n",
    "            ### возьмем самый часто встречаемый в соседях класс.\n",
    "            prediction = counts > 0.5\n",
    "            y.append(prediction)\n",
    "        return y"
   ]
  },
  {
   "cell_type": "code",
   "execution_count": 30,
   "metadata": {},
   "outputs": [],
   "source": [
    "from sklearn.metrics import precision_score"
   ]
  },
  {
   "cell_type": "code",
   "execution_count": 32,
   "metadata": {},
   "outputs": [
    {
     "ename": "ValueError",
     "evalue": "too many values to unpack (expected 3)",
     "output_type": "error",
     "traceback": [
      "\u001b[0;31m---------------------------------------------------------------------------\u001b[0m",
      "\u001b[0;31mValueError\u001b[0m                                Traceback (most recent call last)",
      "\u001b[0;32m<ipython-input-32-5e9ee1a51417>\u001b[0m in \u001b[0;36m<module>\u001b[0;34m\u001b[0m\n\u001b[1;32m      7\u001b[0m \u001b[0;32mfor\u001b[0m \u001b[0mi\u001b[0m \u001b[0;32min\u001b[0m \u001b[0mpossible_n\u001b[0m\u001b[0;34m:\u001b[0m\u001b[0;34m\u001b[0m\u001b[0m\n\u001b[1;32m      8\u001b[0m     \u001b[0mknn\u001b[0m\u001b[0;34m.\u001b[0m\u001b[0mn\u001b[0m \u001b[0;34m=\u001b[0m \u001b[0mi\u001b[0m\u001b[0;34m\u001b[0m\u001b[0m\n\u001b[0;32m----> 9\u001b[0;31m     \u001b[0mprint\u001b[0m\u001b[0;34m(\u001b[0m\u001b[0;34m\"n: {}, precision: {}\"\u001b[0m\u001b[0;34m.\u001b[0m\u001b[0mformat\u001b[0m\u001b[0;34m(\u001b[0m\u001b[0mknn\u001b[0m\u001b[0;34m.\u001b[0m\u001b[0mn\u001b[0m\u001b[0;34m,\u001b[0m \u001b[0mprecision_score\u001b[0m\u001b[0;34m(\u001b[0m\u001b[0my_true\u001b[0m\u001b[0;34m=\u001b[0m\u001b[0my_test\u001b[0m\u001b[0;34m,\u001b[0m \u001b[0my_pred\u001b[0m\u001b[0;34m=\u001b[0m\u001b[0mknn\u001b[0m\u001b[0;34m.\u001b[0m\u001b[0mpredict\u001b[0m\u001b[0;34m(\u001b[0m\u001b[0mX_test\u001b[0m\u001b[0;34m)\u001b[0m\u001b[0;34m)\u001b[0m\u001b[0;34m)\u001b[0m\u001b[0;34m)\u001b[0m\u001b[0;34m\u001b[0m\u001b[0m\n\u001b[0m",
      "\u001b[0;32m<ipython-input-29-de780eaf28b9>\u001b[0m in \u001b[0;36mpredict\u001b[0;34m(self, X)\u001b[0m\n\u001b[1;32m     17\u001b[0m         \u001b[0my\u001b[0m \u001b[0;34m=\u001b[0m \u001b[0;34m[\u001b[0m\u001b[0;34m]\u001b[0m\u001b[0;34m\u001b[0m\u001b[0m\n\u001b[1;32m     18\u001b[0m         \u001b[0;32massert\u001b[0m \u001b[0mlen\u001b[0m\u001b[0;34m(\u001b[0m\u001b[0mX\u001b[0m\u001b[0;34m.\u001b[0m\u001b[0mshape\u001b[0m\u001b[0;34m)\u001b[0m \u001b[0;34m==\u001b[0m \u001b[0;36m2\u001b[0m\u001b[0;34m\u001b[0m\u001b[0m\n\u001b[0;32m---> 19\u001b[0;31m         \u001b[0;32mfor\u001b[0m \u001b[0;34m(\u001b[0m\u001b[0mh\u001b[0m\u001b[0;34m,\u001b[0m \u001b[0mw\u001b[0m\u001b[0;34m,\u001b[0m \u001b[0ma\u001b[0m\u001b[0;34m)\u001b[0m \u001b[0;32min\u001b[0m \u001b[0mX\u001b[0m\u001b[0;34m:\u001b[0m\u001b[0;34m\u001b[0m\u001b[0m\n\u001b[0m\u001b[1;32m     20\u001b[0m             \u001b[0;31m### Посчитаем расстояние от всех элементов в тренировочной выборке\u001b[0m\u001b[0;34m\u001b[0m\u001b[0;34m\u001b[0m\u001b[0m\n\u001b[1;32m     21\u001b[0m             \u001b[0;31m# до текущего примера -> результат - вектор размерности трейна\u001b[0m\u001b[0;34m\u001b[0m\u001b[0;34m\u001b[0m\u001b[0m\n",
      "\u001b[0;31mValueError\u001b[0m: too many values to unpack (expected 3)"
     ]
    }
   ],
   "source": [
    "#Подберем на валидации число соседей\n",
    "possible_n = [3, 5, 7, 9, 13]\n",
    "#TODO Подберем число соседей\n",
    "#Хотим быть очень точными ;)\n",
    "knn = KNNClassifier(1)\n",
    "knn.fit(train, y_train.values)\n",
    "for i in possible_n:\n",
    "    knn.n = i\n",
    "    print(\"n: {}, precision: {}\".format(knn.n, precision_score(y_true=y_test, y_pred=knn.predict(X_test))))"
   ]
  },
  {
   "cell_type": "markdown",
   "metadata": {},
   "source": [
    "# KNN для регрессии"
   ]
  },
  {
   "cell_type": "code",
   "execution_count": null,
   "metadata": {
    "collapsed": true
   },
   "outputs": [],
   "source": [
    "#TODO Препроцессинг данных для регрессии. Целевая переменная - ВОЗРАСТ, посмотрим можно ли что-то сказать\n",
    "#о возрасте по весу, росту и полу (Hint, скорее всего нет)\n",
    "class KNNRegressor:\n",
    "    \"\"\"\n",
    "    simple KNN regressor\n",
    "    \"\"\"\n",
    "    \n",
    "    def __init__(self, n):\n",
    "        pass\n",
    "        \n",
    "    def fit(self, X, y):\n",
    "        pass\n",
    "    \n",
    "    def predict(self, X):\n",
    "        y = []\n",
    "        assert len(X.shape) == 2\n",
    "        for (h, w) in X:\n",
    "            ### Посчитаем расстояние от всех элементов в тренировочной выборке\n",
    "            # до текущего примера -> результат - вектор размерности трейна\n",
    "            d = pass\n",
    "            ### Возьмем индексы n элементов, расстояние до которых минимально\n",
    "            ### результат -> вектор из n элементов\n",
    "            idx = pass\n",
    "            counts = pass\n",
    "            prediction = pass\n",
    "            y.append(prediction)\n",
    "        return y"
   ]
  },
  {
   "cell_type": "code",
   "execution_count": null,
   "metadata": {
    "collapsed": true
   },
   "outputs": [],
   "source": [
    "#Подберем на валидации число соседей\n",
    "possible_n = [3, 5, 7, 9, 13]\n",
    "#TODO Подберем число соседей\n",
    "#Хотим быть очень точными ;)"
   ]
  }
 ],
 "metadata": {
  "anaconda-cloud": {},
  "kernelspec": {
   "display_name": "Python 3",
   "language": "python",
   "name": "python3"
  },
  "language_info": {
   "codemirror_mode": {
    "name": "ipython",
    "version": 3
   },
   "file_extension": ".py",
   "mimetype": "text/x-python",
   "name": "python",
   "nbconvert_exporter": "python",
   "pygments_lexer": "ipython3",
   "version": "3.6.4"
  }
 },
 "nbformat": 4,
 "nbformat_minor": 1
}
